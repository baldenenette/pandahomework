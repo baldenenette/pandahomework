{
 "cells": [
  {
   "cell_type": "markdown",
   "metadata": {},
   "source": [
    "### Note\n",
    "* Instructions have been included for each segment. You do not have to follow them exactly, but they are included to help you think through the steps."
   ]
  },
  {
   "cell_type": "code",
   "execution_count": 41,
   "metadata": {},
   "outputs": [],
   "source": [
    "# Dependencies and Setup\n",
    "import pandas as pd\n",
    "import numpy as np\n",
    "\n",
    "# File to Load (Remember to Change These)\n",
    "file_to_load = \"Resources/purchase_data.csv\"\n",
    "\n",
    "# Read Purchasing File and store into Pandas data frame\n",
    "purchase_data = pd.read_csv(file_to_load)\n"
   ]
  },
  {
   "cell_type": "markdown",
   "metadata": {},
   "source": [
    "## Player Count"
   ]
  },
  {
   "cell_type": "markdown",
   "metadata": {},
   "source": [
    "* Display the total number of players\n"
   ]
  },
  {
   "cell_type": "code",
   "execution_count": 23,
   "metadata": {},
   "outputs": [
    {
     "data": {
      "text/html": [
       "<div>\n",
       "<style scoped>\n",
       "    .dataframe tbody tr th:only-of-type {\n",
       "        vertical-align: middle;\n",
       "    }\n",
       "\n",
       "    .dataframe tbody tr th {\n",
       "        vertical-align: top;\n",
       "    }\n",
       "\n",
       "    .dataframe thead th {\n",
       "        text-align: right;\n",
       "    }\n",
       "</style>\n",
       "<table border=\"1\" class=\"dataframe\">\n",
       "  <thead>\n",
       "    <tr style=\"text-align: right;\">\n",
       "      <th></th>\n",
       "      <th>Total Players</th>\n",
       "    </tr>\n",
       "  </thead>\n",
       "  <tbody>\n",
       "    <tr>\n",
       "      <td>0</td>\n",
       "      <td>576</td>\n",
       "    </tr>\n",
       "  </tbody>\n",
       "</table>\n",
       "</div>"
      ],
      "text/plain": [
       "   Total Players\n",
       "0            576"
      ]
     },
     "execution_count": 23,
     "metadata": {},
     "output_type": "execute_result"
    }
   ],
   "source": [
    "# Use the length of list of screen names \"SN\", for total players.\n",
    "total_players = len(purchase_data[\"SN\"].value_counts())\n",
    "#Get data frame with total players named player count\n",
    "player_count = pd.DataFrame({\"Total Players\":[total_players]})\n",
    "player_count\n"
   ]
  },
  {
   "cell_type": "markdown",
   "metadata": {},
   "source": [
    "## Purchasing Analysis (Total)"
   ]
  },
  {
   "cell_type": "markdown",
   "metadata": {},
   "source": [
    "* Run basic calculations to obtain number of unique items, average price, etc.\n",
    "\n",
    "\n",
    "* Create a summary data frame to hold the results\n",
    "\n",
    "\n",
    "* Optional: give the displayed data cleaner formatting\n",
    "\n",
    "\n",
    "* Display the summary data frame\n"
   ]
  },
  {
   "cell_type": "code",
   "execution_count": 52,
   "metadata": {
    "scrolled": true
   },
   "outputs": [
    {
     "data": {
      "text/html": [
       "<style  type=\"text/css\" >\n",
       "</style><table id=\"T_90329852_3653_11ea_968c_20c9d0802ff5\" ><thead>    <tr>        <th class=\"blank level0\" ></th>        <th class=\"col_heading level0 col0\" >Number of Unique Items</th>        <th class=\"col_heading level0 col1\" >Average Price</th>        <th class=\"col_heading level0 col2\" >Number of Purchases</th>        <th class=\"col_heading level0 col3\" >Total Revenue</th>    </tr></thead><tbody>\n",
       "                <tr>\n",
       "                        <th id=\"T_90329852_3653_11ea_968c_20c9d0802ff5level0_row0\" class=\"row_heading level0 row0\" >0</th>\n",
       "                        <td id=\"T_90329852_3653_11ea_968c_20c9d0802ff5row0_col0\" class=\"data row0 col0\" >183</td>\n",
       "                        <td id=\"T_90329852_3653_11ea_968c_20c9d0802ff5row0_col1\" class=\"data row0 col1\" >$3.05</td>\n",
       "                        <td id=\"T_90329852_3653_11ea_968c_20c9d0802ff5row0_col2\" class=\"data row0 col2\" >780</td>\n",
       "                        <td id=\"T_90329852_3653_11ea_968c_20c9d0802ff5row0_col3\" class=\"data row0 col3\" >$2,379.77</td>\n",
       "            </tr>\n",
       "    </tbody></table>"
      ],
      "text/plain": [
       "<pandas.io.formats.style.Styler at 0x12149ca10>"
      ]
     },
     "execution_count": 52,
     "metadata": {},
     "output_type": "execute_result"
    }
   ],
   "source": [
    "# number of unique items\n",
    "# average purchase price\n",
    "# total number of purchases\n",
    "# total revenue\n",
    "\n",
    "\n",
    "# number of unique items\n",
    "number_of_unique_items = len((purchase_data[\"Item ID\"]).unique())\n",
    "\n",
    "# average purchase price\n",
    "average_price = (purchase_data[\"Price\"]).mean()\n",
    "\n",
    "# total number of purchases\n",
    "number_of_purchases = (purchase_data[\"Purchase ID\"]).count()\n",
    "\n",
    "# total revenue\n",
    "total_revenue = (purchase_data[\"Price\"]).sum()\n",
    "\n",
    "\n",
    "\n",
    "# Creating dataframe with values\n",
    "summary_df = pd.DataFrame(\n",
    "{\"Number of Unique Items\":[number_of_unique_items],\n",
    "\"Average Price\":[average_price], \n",
    "\"Number of Purchases\": [number_of_purchases], \n",
    "\"Total Revenue\": [total_revenue]})\n",
    "\n",
    "# Formating $\n",
    "summary_df.style.format({'Average Price':\"${:,.2f}\",\n",
    "                         'Total Revenue': '${:,.2f}'})"
   ]
  },
  {
   "cell_type": "markdown",
   "metadata": {},
   "source": [
    "## Gender Demographics"
   ]
  },
  {
   "cell_type": "markdown",
   "metadata": {},
   "source": [
    "* Percentage and Count of Male Players\n",
    "\n",
    "\n",
    "* Percentage and Count of Female Players\n",
    "\n",
    "\n",
    "* Percentage and Count of Other / Non-Disclosed\n",
    "\n",
    "\n"
   ]
  },
  {
   "cell_type": "code",
   "execution_count": 90,
   "metadata": {},
   "outputs": [
    {
     "data": {
      "text/html": [
       "<div>\n",
       "<style scoped>\n",
       "    .dataframe tbody tr th:only-of-type {\n",
       "        vertical-align: middle;\n",
       "    }\n",
       "\n",
       "    .dataframe tbody tr th {\n",
       "        vertical-align: top;\n",
       "    }\n",
       "\n",
       "    .dataframe thead th {\n",
       "        text-align: right;\n",
       "    }\n",
       "</style>\n",
       "<table border=\"1\" class=\"dataframe\">\n",
       "  <thead>\n",
       "    <tr style=\"text-align: right;\">\n",
       "      <th></th>\n",
       "      <th>Percentage of Players</th>\n",
       "      <th>Total Count</th>\n",
       "    </tr>\n",
       "    <tr>\n",
       "      <th>Gender</th>\n",
       "      <th></th>\n",
       "      <th></th>\n",
       "    </tr>\n",
       "  </thead>\n",
       "  <tbody>\n",
       "    <tr>\n",
       "      <td>Female</td>\n",
       "      <td>81</td>\n",
       "      <td>0.141361</td>\n",
       "    </tr>\n",
       "    <tr>\n",
       "      <td>Male</td>\n",
       "      <td>484</td>\n",
       "      <td>0.844677</td>\n",
       "    </tr>\n",
       "    <tr>\n",
       "      <td>Other / Non-Disclosed</td>\n",
       "      <td>11</td>\n",
       "      <td>0.019197</td>\n",
       "    </tr>\n",
       "  </tbody>\n",
       "</table>\n",
       "</div>"
      ],
      "text/plain": [
       "                       Percentage of Players  Total Count\n",
       "Gender                                                   \n",
       "Female                                    81     0.141361\n",
       "Male                                     484     0.844677\n",
       "Other / Non-Disclosed                     11     0.019197"
      ]
     },
     "execution_count": 90,
     "metadata": {},
     "output_type": "execute_result"
    }
   ],
   "source": [
    "#Percentage and Count of Male Players\n",
    "#Percentage and Count of Female Players\n",
    "#Percentage and Count of Other / Non-Disclosed\n",
    "\n",
    "# Gender Count\n",
    "gender = purchase_data.groupby(\"Gender\")[\"SN\"].nunique()\n",
    "gender_count_df.head()\n",
    "\n",
    "# count by gender and divivde by total players \n",
    "percentage_of_players = total_count_gender / total_players * 100\n",
    "\n",
    "gender_demographics = pd.DataFrame({\"Percentage of Players\": percentage_of_players, \"gender Count\": total_count_gender})\n",
    "\n",
    "gender_demographics_df = pd.DataFrame({\"Percentage of Players\": gender_count_df, \"Total Count\":gender_percentage_df})\n",
    "gender_demographics_df\n"
   ]
  },
  {
   "cell_type": "markdown",
   "metadata": {},
   "source": [
    "\n",
    "## Purchasing Analysis (Gender)"
   ]
  },
  {
   "cell_type": "markdown",
   "metadata": {},
   "source": [
    "* Run basic calculations to obtain purchase count, avg. purchase price, avg. purchase total per person etc. by gender\n",
    "\n",
    "\n",
    "\n",
    "\n",
    "* Create a summary data frame to hold the results\n",
    "\n",
    "\n",
    "* Optional: give the displayed data cleaner formatting\n",
    "\n",
    "\n",
    "* Display the summary data frame"
   ]
  },
  {
   "cell_type": "code",
   "execution_count": 137,
   "metadata": {},
   "outputs": [
    {
     "data": {
      "text/html": [
       "<style  type=\"text/css\" >\n",
       "</style><table id=\"T_c694b8c8_367e_11ea_968c_20c9d0802ff5\" ><thead>    <tr>        <th class=\"blank level0\" ></th>        <th class=\"col_heading level0 col0\" >Purchase Count</th>        <th class=\"col_heading level0 col1\" >Average Purchase Price</th>        <th class=\"col_heading level0 col2\" >Total Purchase Value</th>        <th class=\"col_heading level0 col3\" >Normalized Totals</th>    </tr>    <tr>        <th class=\"index_name level0\" >Gender</th>        <th class=\"blank\" ></th>        <th class=\"blank\" ></th>        <th class=\"blank\" ></th>        <th class=\"blank\" ></th>    </tr></thead><tbody>\n",
       "                <tr>\n",
       "                        <th id=\"T_c694b8c8_367e_11ea_968c_20c9d0802ff5level0_row0\" class=\"row_heading level0 row0\" >Female</th>\n",
       "                        <td id=\"T_c694b8c8_367e_11ea_968c_20c9d0802ff5row0_col0\" class=\"data row0 col0\" >0.0395433</td>\n",
       "                        <td id=\"T_c694b8c8_367e_11ea_968c_20c9d0802ff5row0_col1\" class=\"data row0 col1\" >$0.04</td>\n",
       "                        <td id=\"T_c694b8c8_367e_11ea_968c_20c9d0802ff5row0_col2\" class=\"data row0 col2\" >0.0395433</td>\n",
       "                        <td id=\"T_c694b8c8_367e_11ea_968c_20c9d0802ff5row0_col3\" class=\"data row0 col3\" >0.0395433</td>\n",
       "            </tr>\n",
       "            <tr>\n",
       "                        <th id=\"T_c694b8c8_367e_11ea_968c_20c9d0802ff5level0_row1\" class=\"row_heading level0 row1\" >Male</th>\n",
       "                        <td id=\"T_c694b8c8_367e_11ea_968c_20c9d0802ff5row1_col0\" class=\"data row1 col0\" >0.00623523</td>\n",
       "                        <td id=\"T_c694b8c8_367e_11ea_968c_20c9d0802ff5row1_col1\" class=\"data row1 col1\" >$0.01</td>\n",
       "                        <td id=\"T_c694b8c8_367e_11ea_968c_20c9d0802ff5row1_col2\" class=\"data row1 col2\" >0.00623523</td>\n",
       "                        <td id=\"T_c694b8c8_367e_11ea_968c_20c9d0802ff5row1_col3\" class=\"data row1 col3\" >0.00623523</td>\n",
       "            </tr>\n",
       "            <tr>\n",
       "                        <th id=\"T_c694b8c8_367e_11ea_968c_20c9d0802ff5level0_row2\" class=\"row_heading level0 row2\" >Other / Non-Disclosed</th>\n",
       "                        <td id=\"T_c694b8c8_367e_11ea_968c_20c9d0802ff5row2_col0\" class=\"data row2 col0\" >0.304182</td>\n",
       "                        <td id=\"T_c694b8c8_367e_11ea_968c_20c9d0802ff5row2_col1\" class=\"data row2 col1\" >$0.30</td>\n",
       "                        <td id=\"T_c694b8c8_367e_11ea_968c_20c9d0802ff5row2_col2\" class=\"data row2 col2\" >0.304182</td>\n",
       "                        <td id=\"T_c694b8c8_367e_11ea_968c_20c9d0802ff5row2_col3\" class=\"data row2 col3\" >0.304182</td>\n",
       "            </tr>\n",
       "    </tbody></table>"
      ],
      "text/plain": [
       "<pandas.io.formats.style.Styler at 0x121778350>"
      ]
     },
     "execution_count": 137,
     "metadata": {},
     "output_type": "execute_result"
    }
   ],
   "source": [
    "#Purchase Count\n",
    "# Average Purchase Price\n",
    "# Total Purchase Value\n",
    "# Average Purchase Per Person\n",
    "\n",
    "#Purchase Count\n",
    "purchase_count = gender_stats[\"Purchase ID\"].count()\n",
    "purchase_count.count()\n",
    "\n",
    "gender_average_df = purchase_data.groupby(\"Gender\")[\"Price\"].mean()\n",
    "gender_average_df.round(2)\n",
    "\n",
    "# Average purchase total by gender \n",
    "avg_purchase_total = gender_stats[\"Price\"].sum()\n",
    "avg_purchase_total\n",
    "\n",
    "average_purchase_per_person = avg_purchase_total/total_count_gender\n",
    "\n",
    "#Normalized gender total.\n",
    "normalized_gender_total_df = gender_average_df/gender_count_df\n",
    "normalized_gender_total_df.round(2)\n",
    "\n",
    "\n",
    "\n",
    "gender_demographics.index.name = \"Gender\"\n",
    "\n",
    "\n",
    "gender_demographics.style.format({\"Average Purchase Total\":\"${:,.2f}\",\n",
    "                                  \"Average Purchase Price\":\"${:,.2f}\",\n",
    "                                  \"Avg Purchase Total per Person\":\"${:,.2f}\"})"
   ]
  },
  {
   "cell_type": "markdown",
   "metadata": {},
   "source": [
    "## Age Demographics"
   ]
  },
  {
   "cell_type": "markdown",
   "metadata": {},
   "source": [
    "* Establish bins for ages\n",
    "\n",
    "\n",
    "* Categorize the existing players using the age bins. Hint: use pd.cut()\n",
    "\n",
    "\n",
    "* Calculate the numbers and percentages by age group\n",
    "\n",
    "\n",
    "* Create a summary data frame to hold the results\n",
    "\n",
    "\n",
    "* Optional: round the percentage column to two decimal points\n",
    "\n",
    "\n",
    "* Display Age Demographics Table\n"
   ]
  },
  {
   "cell_type": "code",
   "execution_count": 7,
   "metadata": {},
   "outputs": [
    {
     "ename": "NameError",
     "evalue": "name 'purchase_data' is not defined",
     "output_type": "error",
     "traceback": [
      "\u001b[0;31m---------------------------------------------------------------------------\u001b[0m",
      "\u001b[0;31mNameError\u001b[0m                                 Traceback (most recent call last)",
      "\u001b[0;32m<ipython-input-7-cae959af1f08>\u001b[0m in \u001b[0;36m<module>\u001b[0;34m\u001b[0m\n\u001b[1;32m     11\u001b[0m \u001b[0;34m\u001b[0m\u001b[0m\n\u001b[1;32m     12\u001b[0m \u001b[0;31m# Sort age values into bins\u001b[0m\u001b[0;34m\u001b[0m\u001b[0;34m\u001b[0m\u001b[0;34m\u001b[0m\u001b[0m\n\u001b[0;32m---> 13\u001b[0;31m \u001b[0mpurchase_data\u001b[0m\u001b[0;34m[\u001b[0m\u001b[0;34m\"Age Range\"\u001b[0m\u001b[0;34m]\u001b[0m \u001b[0;34m=\u001b[0m \u001b[0mpurchase_data\u001b[0m\u001b[0;34m[\u001b[0m\u001b[0;34m\"Age\"\u001b[0m\u001b[0;34m]\u001b[0m\u001b[0;34m,\u001b[0m\u001b[0mbins\u001b[0m\u001b[0;34m,\u001b[0m \u001b[0mlabels\u001b[0m\u001b[0;34m=\u001b[0m\u001b[0mgroup_names\u001b[0m\u001b[0;34m\u001b[0m\u001b[0;34m\u001b[0m\u001b[0m\n\u001b[0m\u001b[1;32m     14\u001b[0m \u001b[0mpurchase_data\u001b[0m\u001b[0;34m\u001b[0m\u001b[0;34m\u001b[0m\u001b[0m\n\u001b[1;32m     15\u001b[0m \u001b[0;34m\u001b[0m\u001b[0m\n",
      "\u001b[0;31mNameError\u001b[0m: name 'purchase_data' is not defined"
     ]
    }
   ],
   "source": [
    "#The below each broken into bins of 4 years (i.e. &lt;10, 10-14, 15-19, etc.)\n",
    "#Purchase Count\n",
    "#Average Purchase Price\n",
    "#Total Purchase Value\n",
    "#Average Purchase Total per Person by Age Group\n"
   ]
  },
  {
   "cell_type": "markdown",
   "metadata": {},
   "source": [
    "## Purchasing Analysis (Age)"
   ]
  },
  {
   "cell_type": "markdown",
   "metadata": {},
   "source": [
    "* Bin the purchase_data data frame by age\n",
    "\n",
    "\n",
    "* Run basic calculations to obtain purchase count, avg. purchase price, avg. purchase total per person etc. in the table below\n",
    "\n",
    "\n",
    "* Create a summary data frame to hold the results\n",
    "\n",
    "\n",
    "* Optional: give the displayed data cleaner formatting\n",
    "\n",
    "\n",
    "* Display the summary data frame"
   ]
  },
  {
   "cell_type": "code",
   "execution_count": 165,
   "metadata": {},
   "outputs": [],
   "source": [
    "# Count purchases by age group\n",
    "purchase_count = age_grouped[\"Purchase ID\"].count()\n",
    "\n",
    "purchase_count[\"Purchase ID\"] = pd.cut(purchase_data_df[\"Age\"], bins, labels= age_ranges)\n",
    "purchase_data_df.head()"
   ]
  },
  {
   "cell_type": "markdown",
   "metadata": {},
   "source": [
    "## Top Spenders"
   ]
  },
  {
   "cell_type": "markdown",
   "metadata": {},
   "source": [
    "* Run basic calculations to obtain the results in the table below\n",
    "\n",
    "\n",
    "* Create a summary data frame to hold the results\n",
    "\n",
    "\n",
    "* Sort the total purchase value column in descending order\n",
    "\n",
    "\n",
    "* Optional: give the displayed data cleaner formatting\n",
    "\n",
    "\n",
    "* Display a preview of the summary data frame\n",
    "\n"
   ]
  },
  {
   "cell_type": "code",
   "execution_count": 205,
   "metadata": {},
   "outputs": [
    {
     "data": {
      "text/html": [
       "<div>\n",
       "<style scoped>\n",
       "    .dataframe tbody tr th:only-of-type {\n",
       "        vertical-align: middle;\n",
       "    }\n",
       "\n",
       "    .dataframe tbody tr th {\n",
       "        vertical-align: top;\n",
       "    }\n",
       "\n",
       "    .dataframe thead th {\n",
       "        text-align: right;\n",
       "    }\n",
       "</style>\n",
       "<table border=\"1\" class=\"dataframe\">\n",
       "  <thead>\n",
       "    <tr style=\"text-align: right;\">\n",
       "      <th></th>\n",
       "      <th>Total Purchase Value</th>\n",
       "      <th>Average Purchase Price</th>\n",
       "      <th>Purchase Count</th>\n",
       "    </tr>\n",
       "    <tr>\n",
       "      <th>SN</th>\n",
       "      <th></th>\n",
       "      <th></th>\n",
       "      <th></th>\n",
       "    </tr>\n",
       "  </thead>\n",
       "  <tbody>\n",
       "    <tr>\n",
       "      <td>Lisosia93</td>\n",
       "      <td>18.96</td>\n",
       "      <td>3.050987</td>\n",
       "      <td>5</td>\n",
       "    </tr>\n",
       "    <tr>\n",
       "      <td>Idastidru52</td>\n",
       "      <td>15.45</td>\n",
       "      <td>3.050987</td>\n",
       "      <td>4</td>\n",
       "    </tr>\n",
       "    <tr>\n",
       "      <td>Chamjask73</td>\n",
       "      <td>13.83</td>\n",
       "      <td>3.050987</td>\n",
       "      <td>3</td>\n",
       "    </tr>\n",
       "    <tr>\n",
       "      <td>Iral74</td>\n",
       "      <td>13.62</td>\n",
       "      <td>3.050987</td>\n",
       "      <td>4</td>\n",
       "    </tr>\n",
       "    <tr>\n",
       "      <td>Iskadarya95</td>\n",
       "      <td>13.10</td>\n",
       "      <td>3.050987</td>\n",
       "      <td>3</td>\n",
       "    </tr>\n",
       "  </tbody>\n",
       "</table>\n",
       "</div>"
      ],
      "text/plain": [
       "             Total Purchase Value  Average Purchase Price  Purchase Count\n",
       "SN                                                                       \n",
       "Lisosia93                   18.96                3.050987               5\n",
       "Idastidru52                 15.45                3.050987               4\n",
       "Chamjask73                  13.83                3.050987               3\n",
       "Iral74                      13.62                3.050987               4\n",
       "Iskadarya95                 13.10                3.050987               3"
      ]
     },
     "execution_count": 205,
     "metadata": {},
     "output_type": "execute_result"
    }
   ],
   "source": [
    "#SN\n",
    "#Purchase Count\n",
    "#Average Purchase Price\n",
    "#Total Purchase Value\n",
    "\n",
    "\n",
    "total= purchase_data.groupby([\"SN\"]).sum()[\"Price\"].rename(\"Total Purchase Value\")\n",
    "average = purchase_data[\"Price\"].mean()\n",
    "count= purchase_data.groupby([\"SN\"]).count()[\"Price\"].rename(\"Average Purchase Price\")\n",
    "\n",
    "\n",
    "purchase_total_spender = purchase_data[\"Price\"].sum()\n",
    "top_spenders = pd.DataFrame({\"Total Purchase Value\":total,\n",
    "                          \"Average Purchase Price\":average_purchase_price,\n",
    "                          \"Purchase Count\":count})\n",
    "top_spenders.sort_values(\"Total Purchase Value\", ascending=False).head(5)\n"
   ]
  },
  {
   "cell_type": "markdown",
   "metadata": {},
   "source": [
    "## Most Popular Items"
   ]
  },
  {
   "cell_type": "markdown",
   "metadata": {},
   "source": [
    "* Retrieve the Item ID, Item Name, and Item Price columns\n",
    "\n",
    "\n",
    "* Group by Item ID and Item Name. Perform calculations to obtain purchase count, item price, and total purchase value\n",
    "\n",
    "\n",
    "* Create a summary data frame to hold the results\n",
    "\n",
    "\n",
    "* Sort the purchase count column in descending order\n",
    "\n",
    "\n",
    "* Optional: give the displayed data cleaner formatting\n",
    "\n",
    "\n",
    "* Display a preview of the summary data frame\n",
    "\n"
   ]
  },
  {
   "cell_type": "code",
   "execution_count": 30,
   "metadata": {},
   "outputs": [
    {
     "ename": "NameError",
     "evalue": "name 'purchase_data' is not defined",
     "output_type": "error",
     "traceback": [
      "\u001b[0;31m---------------------------------------------------------------------------\u001b[0m",
      "\u001b[0;31mNameError\u001b[0m                                 Traceback (most recent call last)",
      "\u001b[0;32m<ipython-input-30-749871c12d59>\u001b[0m in \u001b[0;36m<module>\u001b[0;34m\u001b[0m\n\u001b[1;32m      1\u001b[0m \u001b[0;31m#creating New dataframe\u001b[0m\u001b[0;34m\u001b[0m\u001b[0;34m\u001b[0m\u001b[0;34m\u001b[0m\u001b[0m\n\u001b[1;32m      2\u001b[0m \u001b[0;34m\u001b[0m\u001b[0m\n\u001b[0;32m----> 3\u001b[0;31m \u001b[0mitems_list\u001b[0m \u001b[0;34m=\u001b[0m \u001b[0mpurchase_data\u001b[0m\u001b[0;34m[\u001b[0m\u001b[0;34m[\u001b[0m\u001b[0;34m\"Item ID\"\u001b[0m\u001b[0;34m,\u001b[0m \u001b[0;34m\"Item Name\"\u001b[0m\u001b[0;34m,\u001b[0m \u001b[0;34m\"Price\"\u001b[0m\u001b[0;34m]\u001b[0m\u001b[0;34m]\u001b[0m\u001b[0;34m\u001b[0m\u001b[0;34m\u001b[0m\u001b[0m\n\u001b[0m\u001b[1;32m      4\u001b[0m \u001b[0;34m\u001b[0m\u001b[0m\n\u001b[1;32m      5\u001b[0m \u001b[0mitems_data\u001b[0m \u001b[0;34m=\u001b[0m \u001b[0mitems_list\u001b[0m\u001b[0;34m.\u001b[0m\u001b[0mgroupby\u001b[0m\u001b[0;34m(\u001b[0m\u001b[0;34m[\u001b[0m\u001b[0;34m\"Item ID\"\u001b[0m\u001b[0;34m,\u001b[0m\u001b[0;34m\"Item Name\"\u001b[0m\u001b[0;34m]\u001b[0m\u001b[0;34m)\u001b[0m\u001b[0;34m\u001b[0m\u001b[0;34m\u001b[0m\u001b[0m\n",
      "\u001b[0;31mNameError\u001b[0m: name 'purchase_data' is not defined"
     ]
    }
   ],
   "source": [
    "#creating New dataframe \n",
    "\n",
    "items_list = purchase_data[[\"Item ID\", \"Item Name\", \"Price\"]]\n",
    "\n",
    "items_data = items_list.groupby([\"Item ID\",\"Item Name\"])\n",
    "\n",
    "items_purchase = purchase_data.groupby([\"Item ID\", \"Item Name\"]).count()\n",
    "\n",
    "items_value = purchase_data.groupby([\"Item ID\", \"Item Name\"]).sum()\n",
    "\n",
    "items_price = items_value/items_purchase\n",
    "\n",
    "\n",
    "most_popular_items = pd.DataFrame({\"purchase count\": items_purchase, \n",
    "                                   \"Item Price\": item_price,\n",
    "                                   \"Total Purchase Value\":items_value})\n",
    "\n"
   ]
  },
  {
   "cell_type": "markdown",
   "metadata": {},
   "source": [
    "## Most Profitable Items"
   ]
  },
  {
   "cell_type": "markdown",
   "metadata": {},
   "source": [
    "* Sort the above table by total purchase value in descending order\n",
    "\n",
    "\n",
    "* Optional: give the displayed data cleaner formatting\n",
    "\n",
    "\n",
    "* Display a preview of the data frame\n",
    "\n"
   ]
  },
  {
   "cell_type": "code",
   "execution_count": 247,
   "metadata": {
    "scrolled": true
   },
   "outputs": [
    {
     "data": {
      "text/html": [
       "<style  type=\"text/css\" >\n",
       "</style><table id=\"T_5e063510_3710_11ea_968c_20c9d0802ff5\" ><thead>    <tr>        <th class=\"blank\" ></th>        <th class=\"blank level0\" ></th>        <th class=\"col_heading level0 col0\" >Purchase Count</th>        <th class=\"col_heading level0 col1\" >Item Price</th>        <th class=\"col_heading level0 col2\" >Total Purchase Value</th>    </tr>    <tr>        <th class=\"index_name level0\" >Item ID</th>        <th class=\"index_name level1\" >Item Name</th>        <th class=\"blank\" ></th>        <th class=\"blank\" ></th>        <th class=\"blank\" ></th>    </tr></thead><tbody>\n",
       "                <tr>\n",
       "                        <th id=\"T_5e063510_3710_11ea_968c_20c9d0802ff5level0_row0\" class=\"row_heading level0 row0\" >178</th>\n",
       "                        <th id=\"T_5e063510_3710_11ea_968c_20c9d0802ff5level1_row0\" class=\"row_heading level1 row0\" >Oathbreaker, Last Hope of the Breaking Storm</th>\n",
       "                        <td id=\"T_5e063510_3710_11ea_968c_20c9d0802ff5row0_col0\" class=\"data row0 col0\" >12</td>\n",
       "                        <td id=\"T_5e063510_3710_11ea_968c_20c9d0802ff5row0_col1\" class=\"data row0 col1\" >$4.23</td>\n",
       "                        <td id=\"T_5e063510_3710_11ea_968c_20c9d0802ff5row0_col2\" class=\"data row0 col2\" >$50.76</td>\n",
       "            </tr>\n",
       "            <tr>\n",
       "                        <th id=\"T_5e063510_3710_11ea_968c_20c9d0802ff5level0_row1\" class=\"row_heading level0 row1\" >82</th>\n",
       "                        <th id=\"T_5e063510_3710_11ea_968c_20c9d0802ff5level1_row1\" class=\"row_heading level1 row1\" >Nirvana</th>\n",
       "                        <td id=\"T_5e063510_3710_11ea_968c_20c9d0802ff5row1_col0\" class=\"data row1 col0\" >9</td>\n",
       "                        <td id=\"T_5e063510_3710_11ea_968c_20c9d0802ff5row1_col1\" class=\"data row1 col1\" >$4.90</td>\n",
       "                        <td id=\"T_5e063510_3710_11ea_968c_20c9d0802ff5row1_col2\" class=\"data row1 col2\" >$44.10</td>\n",
       "            </tr>\n",
       "            <tr>\n",
       "                        <th id=\"T_5e063510_3710_11ea_968c_20c9d0802ff5level0_row2\" class=\"row_heading level0 row2\" >145</th>\n",
       "                        <th id=\"T_5e063510_3710_11ea_968c_20c9d0802ff5level1_row2\" class=\"row_heading level1 row2\" >Fiery Glass Crusader</th>\n",
       "                        <td id=\"T_5e063510_3710_11ea_968c_20c9d0802ff5row2_col0\" class=\"data row2 col0\" >9</td>\n",
       "                        <td id=\"T_5e063510_3710_11ea_968c_20c9d0802ff5row2_col1\" class=\"data row2 col1\" >$4.58</td>\n",
       "                        <td id=\"T_5e063510_3710_11ea_968c_20c9d0802ff5row2_col2\" class=\"data row2 col2\" >$41.22</td>\n",
       "            </tr>\n",
       "            <tr>\n",
       "                        <th id=\"T_5e063510_3710_11ea_968c_20c9d0802ff5level0_row3\" class=\"row_heading level0 row3\" >92</th>\n",
       "                        <th id=\"T_5e063510_3710_11ea_968c_20c9d0802ff5level1_row3\" class=\"row_heading level1 row3\" >Final Critic</th>\n",
       "                        <td id=\"T_5e063510_3710_11ea_968c_20c9d0802ff5row3_col0\" class=\"data row3 col0\" >8</td>\n",
       "                        <td id=\"T_5e063510_3710_11ea_968c_20c9d0802ff5row3_col1\" class=\"data row3 col1\" >$4.88</td>\n",
       "                        <td id=\"T_5e063510_3710_11ea_968c_20c9d0802ff5row3_col2\" class=\"data row3 col2\" >$39.04</td>\n",
       "            </tr>\n",
       "            <tr>\n",
       "                        <th id=\"T_5e063510_3710_11ea_968c_20c9d0802ff5level0_row4\" class=\"row_heading level0 row4\" >103</th>\n",
       "                        <th id=\"T_5e063510_3710_11ea_968c_20c9d0802ff5level1_row4\" class=\"row_heading level1 row4\" >Singed Scalpel</th>\n",
       "                        <td id=\"T_5e063510_3710_11ea_968c_20c9d0802ff5row4_col0\" class=\"data row4 col0\" >8</td>\n",
       "                        <td id=\"T_5e063510_3710_11ea_968c_20c9d0802ff5row4_col1\" class=\"data row4 col1\" >$4.35</td>\n",
       "                        <td id=\"T_5e063510_3710_11ea_968c_20c9d0802ff5row4_col2\" class=\"data row4 col2\" >$34.80</td>\n",
       "            </tr>\n",
       "    </tbody></table>"
      ],
      "text/plain": [
       "<pandas.io.formats.style.Styler at 0x123642e10>"
      ]
     },
     "execution_count": 247,
     "metadata": {},
     "output_type": "execute_result"
    }
   ],
   "source": [
    "most_profitable_items_df = items_purchased_df.sort_values(\"Total Purchase Value\", ascending=False)\n",
    "\n",
    "# Format with currency style \n",
    "popular_formatted.style.format({\"Item Price\":\"${:,.2f}\",\n",
    "                                \"Total Purchase Value\":\"${:,.2f}\"})"
   ]
  },
  {
   "cell_type": "code",
   "execution_count": null,
   "metadata": {},
   "outputs": [],
   "source": []
  }
 ],
 "metadata": {
  "anaconda-cloud": {},
  "kernel_info": {
   "name": "python3"
  },
  "kernelspec": {
   "display_name": "Python 3",
   "language": "python",
   "name": "python3"
  },
  "language_info": {
   "codemirror_mode": {
    "name": "ipython",
    "version": 3
   },
   "file_extension": ".py",
   "mimetype": "text/x-python",
   "name": "python",
   "nbconvert_exporter": "python",
   "pygments_lexer": "ipython3",
   "version": "3.7.4"
  },
  "latex_envs": {
   "LaTeX_envs_menu_present": true,
   "autoclose": false,
   "autocomplete": true,
   "bibliofile": "biblio.bib",
   "cite_by": "apalike",
   "current_citInitial": 1,
   "eqLabelWithNumbers": true,
   "eqNumInitial": 1,
   "hotkeys": {
    "equation": "Ctrl-E",
    "itemize": "Ctrl-I"
   },
   "labels_anchors": false,
   "latex_user_defs": false,
   "report_style_numbering": false,
   "user_envs_cfg": false
  },
  "nteract": {
   "version": "0.2.0"
  }
 },
 "nbformat": 4,
 "nbformat_minor": 2
}
